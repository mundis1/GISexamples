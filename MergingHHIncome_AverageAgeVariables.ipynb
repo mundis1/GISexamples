{
 "cells": [
  {
   "cell_type": "code",
   "execution_count": 1,
   "metadata": {},
   "outputs": [],
   "source": [
    "import pandas\n",
    "import os"
   ]
  },
  {
   "cell_type": "code",
   "execution_count": 15,
   "metadata": {},
   "outputs": [],
   "source": [
    "### Step 1. Read in all the raw data files\n",
    "os.chdir(\"C:/Users/smundis543.DSHS/OneDrive - Texas Health and Human Services/Documents/DentalCareCensusData\")\n",
    "\n",
    "raceEthnicity = pandas.read_csv(\"RaceEthnicityACS5YE_2022.csv\", low_memory=False)\n",
    "poverty = pandas.read_csv(\"Poverty_Data.csv\", low_memory=False)\n",
    "insurance = pandas.read_csv(\"Uninsured_Data.csv\", low_memory=False)\n",
    "income = pandas.read_csv(\"MedianIncome_Data.csv\", low_memory=False)\n",
    "unemployment = pandas.read_csv(\"UnemploymentData.csv\", low_memory=False)\n"
   ]
  },
  {
   "cell_type": "code",
   "execution_count": 16,
   "metadata": {},
   "outputs": [],
   "source": [
    "### Step 2. List out the variables we want to keep from each dataset\n",
    "\n",
    "### Variables from Race/Ethnicity\n",
    "### total pop, nonHispanic White\n",
    "\n",
    "REvariables = [\"GEO_ID\", \"DP05_0001E\", \"DP05_0079PE\"]\n",
    "RESubset = raceEthnicity[REvariables]\n",
    "### Variables from poverty\n",
    "### % below poverty level\n",
    "\n",
    "povertyVariables = [\"GEO_ID\", \"S1701_C03_001E\"]  \n",
    "povertySubset = poverty[povertyVariables]\n",
    "\n",
    "### Variables from insurance:\n",
    "### Percent insured\n",
    "\n",
    "insuredVariables = [\"GEO_ID\", \"S2701_C03_001E\"]\n",
    "insuredSubset = insurance[insuredVariables]\n",
    "\n",
    "### Variables from income\n",
    "### median household income \n",
    "\n",
    "incomeVariables = [\"GEO_ID\", \"S1903_C03_001E\" ]\n",
    "incomeSubset = income[incomeVariables]\n",
    "\n",
    "#### Variables from employment\n",
    "employmentVariables = [\"GEO_ID\", \"S2301_C04_001E\"]\n",
    "employmentSubset = unemployment[employmentVariables]\n"
   ]
  },
  {
   "cell_type": "code",
   "execution_count": 17,
   "metadata": {},
   "outputs": [],
   "source": [
    "dataframes = [RESubset, povertySubset, insuredSubset, incomeSubset, employmentSubset]\n",
    "import functools as ft\n",
    "\n",
    "### Merge together all of the dataframes\n",
    "df_final = ft.reduce(lambda left, right: pandas.merge(left, right, on = ['GEO_ID']), dataframes)\n"
   ]
  },
  {
   "cell_type": "code",
   "execution_count": 18,
   "metadata": {},
   "outputs": [],
   "source": [
    "#### Remove those !!! that are in the second row and will likely make ArcGIS lose its little mind\n",
    "df_final = df_final.replace({'!':''}, regex=True)"
   ]
  },
  {
   "cell_type": "code",
   "execution_count": 19,
   "metadata": {},
   "outputs": [
    {
     "data": {
      "text/html": [
       "<div>\n",
       "<style scoped>\n",
       "    .dataframe tbody tr th:only-of-type {\n",
       "        vertical-align: middle;\n",
       "    }\n",
       "\n",
       "    .dataframe tbody tr th {\n",
       "        vertical-align: top;\n",
       "    }\n",
       "\n",
       "    .dataframe thead th {\n",
       "        text-align: right;\n",
       "    }\n",
       "</style>\n",
       "<table border=\"1\" class=\"dataframe\">\n",
       "  <thead>\n",
       "    <tr style=\"text-align: right;\">\n",
       "      <th></th>\n",
       "      <th>Geography</th>\n",
       "      <th>EstimateSEX AND AGETotal population</th>\n",
       "      <th>PercentHISPANIC OR LATINO AND RACETotal populationNot Hispanic or LatinoWhite alone</th>\n",
       "      <th>EstimatePercent below poverty levelPopulation for whom poverty status is determined</th>\n",
       "      <th>EstimatePercent InsuredCivilian noninstitutionalized population</th>\n",
       "      <th>EstimateMedian income (dollars)HOUSEHOLD INCOME BY RACE AND HISPANIC OR LATINO ORIGIN OF HOUSEHOLDERHouseholds</th>\n",
       "      <th>EstimateUnemployment ratePopulation 16 years and over</th>\n",
       "    </tr>\n",
       "  </thead>\n",
       "  <tbody>\n",
       "    <tr>\n",
       "      <th>1</th>\n",
       "      <td>0500000US48001</td>\n",
       "      <td>58077</td>\n",
       "      <td>56.7</td>\n",
       "      <td>15.3</td>\n",
       "      <td>83.1</td>\n",
       "      <td>49736</td>\n",
       "      <td>4.0</td>\n",
       "    </tr>\n",
       "    <tr>\n",
       "      <th>2</th>\n",
       "      <td>0500000US48003</td>\n",
       "      <td>18362</td>\n",
       "      <td>38.4</td>\n",
       "      <td>12.3</td>\n",
       "      <td>76.3</td>\n",
       "      <td>80518</td>\n",
       "      <td>2.9</td>\n",
       "    </tr>\n",
       "    <tr>\n",
       "      <th>3</th>\n",
       "      <td>0500000US48005</td>\n",
       "      <td>86608</td>\n",
       "      <td>59.3</td>\n",
       "      <td>17.3</td>\n",
       "      <td>80.8</td>\n",
       "      <td>52377</td>\n",
       "      <td>6.3</td>\n",
       "    </tr>\n",
       "    <tr>\n",
       "      <th>4</th>\n",
       "      <td>0500000US48007</td>\n",
       "      <td>24048</td>\n",
       "      <td>65.9</td>\n",
       "      <td>22.5</td>\n",
       "      <td>84.0</td>\n",
       "      <td>51509</td>\n",
       "      <td>8.2</td>\n",
       "    </tr>\n",
       "    <tr>\n",
       "      <th>5</th>\n",
       "      <td>0500000US48009</td>\n",
       "      <td>8649</td>\n",
       "      <td>87.2</td>\n",
       "      <td>11.5</td>\n",
       "      <td>83.2</td>\n",
       "      <td>67083</td>\n",
       "      <td>3.2</td>\n",
       "    </tr>\n",
       "  </tbody>\n",
       "</table>\n",
       "</div>"
      ],
      "text/plain": [
       "0       Geography  ... EstimateUnemployment ratePopulation 16 years and over\n",
       "1  0500000US48001  ...                                                4.0   \n",
       "2  0500000US48003  ...                                                2.9   \n",
       "3  0500000US48005  ...                                                6.3   \n",
       "4  0500000US48007  ...                                                8.2   \n",
       "5  0500000US48009  ...                                                3.2   \n",
       "\n",
       "[5 rows x 7 columns]"
      ]
     },
     "execution_count": 19,
     "metadata": {},
     "output_type": "execute_result"
    }
   ],
   "source": [
    "#### And Swap out the headers with the first row\n",
    "\n",
    "new_header = df_final.iloc[0]\n",
    "df = df_final[1:]\n",
    "df.columns = new_header\n",
    "\n",
    "df.head()"
   ]
  },
  {
   "cell_type": "code",
   "execution_count": 20,
   "metadata": {},
   "outputs": [],
   "source": [
    "df.to_csv(\"MergedSelectedCountyVariablesACS20215YE.csv\")"
   ]
  }
 ],
 "metadata": {
  "kernelspec": {
   "display_name": "ArcGISPro",
   "language": "Python",
   "name": "python3"
  },
  "language_info": {
   "file_extension": ".py",
   "name": "python",
   "version": "3"
  }
 },
 "nbformat": 4,
 "nbformat_minor": 2
}
