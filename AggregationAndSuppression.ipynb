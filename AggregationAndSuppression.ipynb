{
 "cells": [
  {
   "cell_type": "code",
   "execution_count": 14,
   "metadata": {},
   "outputs": [
    {
     "name": "stdout",
     "output_type": "stream",
     "text": [
      "['total_visits_ip_17', 'heart_ip_17', 'neoplasms_ip_17', 'covid_ip_17', 'accidents_ip_17', 'cerebrovascular_ip_17', 'respiratory_ip_17', 'alzheimers_ip_17', 'diabetes_ip_17', 'liver_ip_17', 'kidney_ip_17', 'parkinsons_ip_17', 'total_visits_ip_18', 'heart_ip_18', 'neoplasms_ip_18', 'covid_ip_18', 'accidents_ip_18', 'cerebrovascular_ip_18', 'respiratory_ip_18', 'alzheimers_ip_18', 'diabetes_ip_18', 'liver_ip_18', 'kidney_ip_18', 'parkinsons_ip_18', 'total_visits_ip_19', 'heart_ip_19', 'neoplasms_ip_19', 'covid_ip_19', 'accidents_ip_19', 'cerebrovascular_ip_19', 'respiratory_ip_19', 'alzheimers_ip_19', 'diabetes_ip_19', 'liver_ip_19', 'kidney_ip_19', 'parkinsons_ip_19', 'total_visits_ip_20', 'heart_ip_20', 'neoplasms_ip_20', 'covid_ip_20', 'accidents_ip_20', 'cerebrovascular_ip_20', 'respiratory_ip_20', 'alzheimers_ip_20', 'diabetes_ip_20', 'liver_ip_20', 'kidney_ip_20', 'parkinsons_ip_20', 'total_visits_ip_21', 'heart_ip_21', 'neoplasms_ip_21', 'covid_ip_21', 'accidents_ip_21', 'cerebrovascular_ip_21', 'respiratory_ip_21', 'alzheimers_ip_21', 'diabetes_ip_21', 'liver_ip_21', 'kidney_ip_21', 'parkinsons_ip_21', 'total_visits_ip_22', 'heart_ip_22', 'neoplasms_ip_22', 'covid_ip_22', 'accidents_ip_22', 'cerebrovascular_ip_22', 'respiratory_ip_22', 'alzheimers_ip_22', 'diabetes_ip_22', 'liver_ip_22', 'kidney_ip_22', 'parkinsons_ip_22']\n",
      "[['total_visits_ip_17', 'SUM'], ['heart_ip_17', 'SUM'], ['neoplasms_ip_17', 'SUM'], ['covid_ip_17', 'SUM'], ['accidents_ip_17', 'SUM'], ['cerebrovascular_ip_17', 'SUM'], ['respiratory_ip_17', 'SUM'], ['alzheimers_ip_17', 'SUM'], ['diabetes_ip_17', 'SUM'], ['liver_ip_17', 'SUM'], ['kidney_ip_17', 'SUM'], ['parkinsons_ip_17', 'SUM'], ['total_visits_ip_18', 'SUM'], ['heart_ip_18', 'SUM'], ['neoplasms_ip_18', 'SUM'], ['covid_ip_18', 'SUM'], ['accidents_ip_18', 'SUM'], ['cerebrovascular_ip_18', 'SUM'], ['respiratory_ip_18', 'SUM'], ['alzheimers_ip_18', 'SUM'], ['diabetes_ip_18', 'SUM'], ['liver_ip_18', 'SUM'], ['kidney_ip_18', 'SUM'], ['parkinsons_ip_18', 'SUM'], ['total_visits_ip_19', 'SUM'], ['heart_ip_19', 'SUM'], ['neoplasms_ip_19', 'SUM'], ['covid_ip_19', 'SUM'], ['accidents_ip_19', 'SUM'], ['cerebrovascular_ip_19', 'SUM'], ['respiratory_ip_19', 'SUM'], ['alzheimers_ip_19', 'SUM'], ['diabetes_ip_19', 'SUM'], ['liver_ip_19', 'SUM'], ['kidney_ip_19', 'SUM'], ['parkinsons_ip_19', 'SUM'], ['total_visits_ip_20', 'SUM'], ['heart_ip_20', 'SUM'], ['neoplasms_ip_20', 'SUM'], ['covid_ip_20', 'SUM'], ['accidents_ip_20', 'SUM'], ['cerebrovascular_ip_20', 'SUM'], ['respiratory_ip_20', 'SUM'], ['alzheimers_ip_20', 'SUM'], ['diabetes_ip_20', 'SUM'], ['liver_ip_20', 'SUM'], ['kidney_ip_20', 'SUM'], ['parkinsons_ip_20', 'SUM'], ['total_visits_ip_21', 'SUM'], ['heart_ip_21', 'SUM'], ['neoplasms_ip_21', 'SUM'], ['covid_ip_21', 'SUM'], ['accidents_ip_21', 'SUM'], ['cerebrovascular_ip_21', 'SUM'], ['respiratory_ip_21', 'SUM'], ['alzheimers_ip_21', 'SUM'], ['diabetes_ip_21', 'SUM'], ['liver_ip_21', 'SUM'], ['kidney_ip_21', 'SUM'], ['parkinsons_ip_21', 'SUM'], ['total_visits_ip_22', 'SUM'], ['heart_ip_22', 'SUM'], ['neoplasms_ip_22', 'SUM'], ['covid_ip_22', 'SUM'], ['accidents_ip_22', 'SUM'], ['cerebrovascular_ip_22', 'SUM'], ['respiratory_ip_22', 'SUM'], ['alzheimers_ip_22', 'SUM'], ['diabetes_ip_22', 'SUM'], ['liver_ip_22', 'SUM'], ['kidney_ip_22', 'SUM'], ['parkinsons_ip_22', 'SUM']]\n"
     ]
    },
    {
     "data": {
      "text/html": [
       "<div class='gpresult'><h2>Messages</h2><div id='messages' data-messages='[\"Start Time: Monday, February 12, 2024 1:39:14 PM\",\"Sorting Attributes...\",\"Dissolving...\",\"Succeeded at Monday, February 12, 2024 1:40:34 PM (Elapsed Time: 1 minutes 20 seconds)\"]' data-show='true'><div id = 'default' /></div></div>"
      ],
      "text/plain": [
       "<Result 'S:\\\\CHS-GIS\\\\Requests\\\\AGO\\\\Aging\\\\GISData\\\\AgingDashboard\\\\AgingDashboard.gdb\\\\Border_IP_lcd'>"
      ]
     },
     "execution_count": 14,
     "metadata": {},
     "output_type": "execute_result"
    }
   ],
   "source": [
    "import arcpy\n",
    "\n",
    "### Set input feature class: doing first feature class, county-level inpatient leading causes of death\n",
    "IP_lcd = \"Unsuppr_IP_county_lcd\"\n",
    "\n",
    "### Create a list for the fields\n",
    "field_list = []\n",
    "\n",
    "### Add all the fields that end with 17, 18, 19, 20, 21, or 22\n",
    "for field in arcpy.ListFields(IP_lcd):\n",
    "    if field.name.endswith('17') | field.name.endswith('18') | field.name.endswith('19') | field.name.endswith('20') | field.name.endswith('21') | field.name.endswith('22'):\n",
    "        field_list.append(field.name)\n",
    "\n",
    "\n",
    "### Create a list for the field + aggregation type pairs\n",
    "field_dictionaries = []\n",
    "\n",
    "### Add all each field into a pair with 'SUM'\n",
    "for field in field_list:\n",
    "    paired = [field, \"SUM\"]\n",
    "    field_dictionaries.append(paired)\n",
    "    \n",
    "\n",
    "arcpy.analysis.PairwiseDissolve(IP_lcd, \"PHR_IP_lcd\", \"PHR8\", field_dictionaries)\n",
    "arcpy.analysis.PairwiseDissolve(IP_lcd, \"Metro_IP_lcd\", \"Metro\", field_dictionaries)\n",
    "arcpy.analysis.PairwiseDissolve(IP_lcd, \"Border_IP_lcd\", \"Border\", field_dictionaries)\n",
    "\n",
    "\n"
   ]
  },
  {
   "cell_type": "code",
   "execution_count": 15,
   "metadata": {},
   "outputs": [
    {
     "name": "stdout",
     "output_type": "stream",
     "text": [
      "['total_visits_ip_17', 'total_fall_ip_17', 'total_infectious_ip_17', 'dental_ip_17', 'total_heart_ed_17', 'total_hypertension_ip_17', 'total_chronic_ip_17', 'total_visits_ip_18', 'total_fall_ip_18', 'total_infectious_ip_18', 'dental_ip_18', 'total_heart_ed_18', 'total_hypertension_ip_18', 'total_chronic_ip_18', 'total_visits_ip_19', 'total_fall_ip_19', 'total_infectious_ip_19', 'dental_ip_19', 'total_heart_ed_19', 'total_hypertension_ip_19', 'total_chronic_ip_19', 'total_visits_ip_20', 'total_fall_ip_20', 'total_infectious_ip_20', 'dental_ip_20', 'total_heart_ed_20', 'total_hypertension_ip_20', 'total_chronic_ip_20', 'total_visits_ip_21', 'total_fall_ip_21', 'total_infectious_ip_21', 'dental_ip_21', 'total_heart_ed_21', 'total_hypertension_ip_21', 'total_chronic_ip_21', 'total_visits_ip_22', 'total_fall_ip_22', 'total_infectious_ip_22', 'dental_ip_22', 'total_heart_ed_22', 'total_hypertension_ip_22', 'total_chronic_ip_22']\n",
      "[['total_visits_ip_17', 'SUM'], ['total_fall_ip_17', 'SUM'], ['total_infectious_ip_17', 'SUM'], ['dental_ip_17', 'SUM'], ['total_heart_ed_17', 'SUM'], ['total_hypertension_ip_17', 'SUM'], ['total_chronic_ip_17', 'SUM'], ['total_visits_ip_18', 'SUM'], ['total_fall_ip_18', 'SUM'], ['total_infectious_ip_18', 'SUM'], ['dental_ip_18', 'SUM'], ['total_heart_ed_18', 'SUM'], ['total_hypertension_ip_18', 'SUM'], ['total_chronic_ip_18', 'SUM'], ['total_visits_ip_19', 'SUM'], ['total_fall_ip_19', 'SUM'], ['total_infectious_ip_19', 'SUM'], ['dental_ip_19', 'SUM'], ['total_heart_ed_19', 'SUM'], ['total_hypertension_ip_19', 'SUM'], ['total_chronic_ip_19', 'SUM'], ['total_visits_ip_20', 'SUM'], ['total_fall_ip_20', 'SUM'], ['total_infectious_ip_20', 'SUM'], ['dental_ip_20', 'SUM'], ['total_heart_ed_20', 'SUM'], ['total_hypertension_ip_20', 'SUM'], ['total_chronic_ip_20', 'SUM'], ['total_visits_ip_21', 'SUM'], ['total_fall_ip_21', 'SUM'], ['total_infectious_ip_21', 'SUM'], ['dental_ip_21', 'SUM'], ['total_heart_ed_21', 'SUM'], ['total_hypertension_ip_21', 'SUM'], ['total_chronic_ip_21', 'SUM'], ['total_visits_ip_22', 'SUM'], ['total_fall_ip_22', 'SUM'], ['total_infectious_ip_22', 'SUM'], ['dental_ip_22', 'SUM'], ['total_heart_ed_22', 'SUM'], ['total_hypertension_ip_22', 'SUM'], ['total_chronic_ip_22', 'SUM']]\n"
     ]
    },
    {
     "data": {
      "text/html": [
       "<div class='gpresult'><h2>Messages</h2><div id='messages' data-messages='[\"Start Time: Monday, February 12, 2024 1:52:06 PM\",\"Sorting Attributes...\",\"Dissolving...\",\"Succeeded at Monday, February 12, 2024 1:53:23 PM (Elapsed Time: 1 minutes 17 seconds)\"]' data-show='true'><div id = 'default' /></div></div>"
      ],
      "text/plain": [
       "<Result 'S:\\\\CHS-GIS\\\\Requests\\\\AGO\\\\Aging\\\\GISData\\\\AgingDashboard\\\\AgingDashboard.gdb\\\\Border_IP_aging'>"
      ]
     },
     "execution_count": 15,
     "metadata": {},
     "output_type": "execute_result"
    }
   ],
   "source": [
    "IP_aging = \"Unsuppr_IP_county_aging\"\n",
    "\n",
    "### Create a list for the fields\n",
    "field_list = []\n",
    "\n",
    "### Add all the fields that end with 17, 18, 19, 20, 21, or 22\n",
    "for field in arcpy.ListFields(IP_aging):\n",
    "    if field.name.endswith('17') | field.name.endswith('18') | field.name.endswith('19') | field.name.endswith('20') | field.name.endswith('21') | field.name.endswith('22'):\n",
    "        field_list.append(field.name)\n",
    "\n",
    "### Create a list for the field + aggregation type pairs\n",
    "field_dictionaries = []\n",
    "\n",
    "### Add all each field into a pair with 'SUM'\n",
    "for field in field_list:\n",
    "    paired = [field, \"SUM\"]\n",
    "    field_dictionaries.append(paired)\n",
    "    \n",
    "\n",
    "arcpy.analysis.PairwiseDissolve(IP_aging, \"PHR_IP_aging\", \"PHR8\", field_dictionaries)\n",
    "arcpy.analysis.PairwiseDissolve(IP_aging, \"Metro_IP_aging\", \"Metro\", field_dictionaries)\n",
    "arcpy.analysis.PairwiseDissolve(IP_aging, \"Border_IP_aging\", \"Border\", field_dictionaries)"
   ]
  },
  {
   "cell_type": "code",
   "execution_count": 16,
   "metadata": {},
   "outputs": [
    {
     "name": "stdout",
     "output_type": "stream",
     "text": [
      "['total_visits_ed_17', 'heart_ed_17', 'neoplasms_ed_17', 'covid_ed_17', 'accidents_ed_17', 'cerebrovascular_ed_17', 'respiratory_ed_17', 'alzheimers_ed_17', 'diabetes_ed_17', 'liver_ed_17', 'kidney_ed_17', 'parkinsons_ed_17', 'total_visits_ed_18', 'heart_ed_18', 'neoplasms_ed_18', 'covid_ed_18', 'accidents_ed_18', 'cerebrovascular_ed_18', 'respiratory_ed_18', 'alzheimers_ed_18', 'diabetes_ed_18', 'liver_ed_18', 'kidney_ed_18', 'parkinsons_ed_18', 'total_visits_ed_19', 'heart_ed_19', 'neoplasms_ed_19', 'covid_ed_19', 'accidents_ed_19', 'cerebrovascular_ed_19', 'respiratory_ed_19', 'alzheimers_ed_19', 'diabetes_ed_19', 'liver_ed_19', 'kidney_ed_19', 'parkinsons_ed_19', 'total_visits_ed_20', 'heart_ed_20', 'neoplasms_ed_20', 'covid_ed_20', 'accidents_ed_20', 'cerebrovascular_ed_20', 'respiratory_ed_20', 'alzheimers_ed_20', 'diabetes_ed_20', 'liver_ed_20', 'kidney_ed_20', 'parkinsons_ed_20', 'total_visits_ed_21', 'heart_ed_21', 'neoplasms_ed_21', 'covid_ed_21', 'accidents_ed_21', 'cerebrovascular_ed_21', 'respiratory_ed_21', 'alzheimers_ed_21', 'diabetes_ed_21', 'liver_ed_21', 'kidney_ed_21', 'parkinsons_ed_21', 'total_visits_ed_22', 'heart_ed_22', 'neoplasms_ed_22', 'covid_ed_22', 'accidents_ed_22', 'cerebrovascular_ed_22', 'respiratory_ed_22', 'alzheimers_ed_22', 'diabetes_ed_22', 'liver_ed_22', 'kidney_ed_22', 'parkinsons_ed_22']\n",
      "[['total_visits_ed_17', 'SUM'], ['heart_ed_17', 'SUM'], ['neoplasms_ed_17', 'SUM'], ['covid_ed_17', 'SUM'], ['accidents_ed_17', 'SUM'], ['cerebrovascular_ed_17', 'SUM'], ['respiratory_ed_17', 'SUM'], ['alzheimers_ed_17', 'SUM'], ['diabetes_ed_17', 'SUM'], ['liver_ed_17', 'SUM'], ['kidney_ed_17', 'SUM'], ['parkinsons_ed_17', 'SUM'], ['total_visits_ed_18', 'SUM'], ['heart_ed_18', 'SUM'], ['neoplasms_ed_18', 'SUM'], ['covid_ed_18', 'SUM'], ['accidents_ed_18', 'SUM'], ['cerebrovascular_ed_18', 'SUM'], ['respiratory_ed_18', 'SUM'], ['alzheimers_ed_18', 'SUM'], ['diabetes_ed_18', 'SUM'], ['liver_ed_18', 'SUM'], ['kidney_ed_18', 'SUM'], ['parkinsons_ed_18', 'SUM'], ['total_visits_ed_19', 'SUM'], ['heart_ed_19', 'SUM'], ['neoplasms_ed_19', 'SUM'], ['covid_ed_19', 'SUM'], ['accidents_ed_19', 'SUM'], ['cerebrovascular_ed_19', 'SUM'], ['respiratory_ed_19', 'SUM'], ['alzheimers_ed_19', 'SUM'], ['diabetes_ed_19', 'SUM'], ['liver_ed_19', 'SUM'], ['kidney_ed_19', 'SUM'], ['parkinsons_ed_19', 'SUM'], ['total_visits_ed_20', 'SUM'], ['heart_ed_20', 'SUM'], ['neoplasms_ed_20', 'SUM'], ['covid_ed_20', 'SUM'], ['accidents_ed_20', 'SUM'], ['cerebrovascular_ed_20', 'SUM'], ['respiratory_ed_20', 'SUM'], ['alzheimers_ed_20', 'SUM'], ['diabetes_ed_20', 'SUM'], ['liver_ed_20', 'SUM'], ['kidney_ed_20', 'SUM'], ['parkinsons_ed_20', 'SUM'], ['total_visits_ed_21', 'SUM'], ['heart_ed_21', 'SUM'], ['neoplasms_ed_21', 'SUM'], ['covid_ed_21', 'SUM'], ['accidents_ed_21', 'SUM'], ['cerebrovascular_ed_21', 'SUM'], ['respiratory_ed_21', 'SUM'], ['alzheimers_ed_21', 'SUM'], ['diabetes_ed_21', 'SUM'], ['liver_ed_21', 'SUM'], ['kidney_ed_21', 'SUM'], ['parkinsons_ed_21', 'SUM'], ['total_visits_ed_22', 'SUM'], ['heart_ed_22', 'SUM'], ['neoplasms_ed_22', 'SUM'], ['covid_ed_22', 'SUM'], ['accidents_ed_22', 'SUM'], ['cerebrovascular_ed_22', 'SUM'], ['respiratory_ed_22', 'SUM'], ['alzheimers_ed_22', 'SUM'], ['diabetes_ed_22', 'SUM'], ['liver_ed_22', 'SUM'], ['kidney_ed_22', 'SUM'], ['parkinsons_ed_22', 'SUM']]\n"
     ]
    },
    {
     "data": {
      "text/html": [
       "<div class='gpresult'><h2>Messages</h2><div id='messages' data-messages='[\"Start Time: Monday, February 12, 2024 2:04:31 PM\",\"Sorting Attributes...\",\"Dissolving...\",\"Succeeded at Monday, February 12, 2024 2:05:50 PM (Elapsed Time: 1 minutes 19 seconds)\"]' data-show='true'><div id = 'default' /></div></div>"
      ],
      "text/plain": [
       "<Result 'S:\\\\CHS-GIS\\\\Requests\\\\AGO\\\\Aging\\\\GISData\\\\AgingDashboard\\\\AgingDashboard.gdb\\\\Border_ED_aging'>"
      ]
     },
     "execution_count": 16,
     "metadata": {},
     "output_type": "execute_result"
    }
   ],
   "source": [
    "ED_lcd = \"Unsuppr_ED_county_lcd\"\n",
    "\n",
    "### Create a list for the fields\n",
    "field_list = []\n",
    "\n",
    "### Add all the fields that end with 17, 18, 19, 20, 21, or 22\n",
    "for field in arcpy.ListFields(ED_lcd):\n",
    "    if field.name.endswith('17') | field.name.endswith('18') | field.name.endswith('19') | field.name.endswith('20') | field.name.endswith('21') | field.name.endswith('22'):\n",
    "        field_list.append(field.name)\n",
    "\n",
    "### Create a list for the field + aggregation type pairs\n",
    "field_dictionaries = []\n",
    "\n",
    "### Add all each field into a pair with 'SUM'\n",
    "for field in field_list:\n",
    "    paired = [field, \"SUM\"]\n",
    "    field_dictionaries.append(paired)\n",
    "    \n",
    "arcpy.analysis.PairwiseDissolve(ED_lcd, \"PHR_ED_lcd\", \"PHR8\", field_dictionaries)\n",
    "arcpy.analysis.PairwiseDissolve(ED_lcd, \"Metro_ED_lcd\", \"Metro\", field_dictionaries)\n",
    "arcpy.analysis.PairwiseDissolve(ED_lcd, \"Border_ED_lcd\", \"Border\", field_dictionaries)\n",
    "\n"
   ]
  },
  {
   "cell_type": "code",
   "execution_count": 17,
   "metadata": {},
   "outputs": [
    {
     "data": {
      "text/html": [
       "<div class='gpresult'><h2>Messages</h2><div id='messages' data-messages='[\"Start Time: Monday, February 12, 2024 2:18:39 PM\",\"Sorting Attributes...\",\"Dissolving...\",\"Succeeded at Monday, February 12, 2024 2:19:58 PM (Elapsed Time: 1 minutes 18 seconds)\"]' data-show='true'><div id = 'default' /></div></div>"
      ],
      "text/plain": [
       "<Result 'S:\\\\CHS-GIS\\\\Requests\\\\AGO\\\\Aging\\\\GISData\\\\AgingDashboard\\\\AgingDashboard.gdb\\\\Border_ED_aging'>"
      ]
     },
     "execution_count": 17,
     "metadata": {},
     "output_type": "execute_result"
    }
   ],
   "source": [
    "ED_aging = \"Unsuppr_ED_county_aging\"\n",
    "\n",
    "### Create a list for the fields\n",
    "field_list = []\n",
    "\n",
    "### Add all the fields that end with 17, 18, 19, 20, 21, or 22\n",
    "for field in arcpy.ListFields(ED_aging):\n",
    "    if field.name.endswith('17') | field.name.endswith('18') | field.name.endswith('19') | field.name.endswith('20') | field.name.endswith('21') | field.name.endswith('22'):\n",
    "        field_list.append(field.name)\n",
    "\n",
    "### Create a list for the field + aggregation type pairs\n",
    "field_dictionaries = []\n",
    "\n",
    "### Add all each field into a pair with 'SUM'\n",
    "for field in field_list:\n",
    "    paired = [field, \"SUM\"]\n",
    "    field_dictionaries.append(paired)\n",
    "    \n",
    "arcpy.analysis.PairwiseDissolve(ED_aging, \"PHR_ED_aging\", \"PHR8\", field_dictionaries)\n",
    "arcpy.analysis.PairwiseDissolve(ED_aging, \"Metro_ED_aging\", \"Metro\", field_dictionaries)\n",
    "arcpy.analysis.PairwiseDissolve(ED_aging, \"Border_ED_aging\", \"Border\", field_dictionaries)\n",
    "\n"
   ]
  },
  {
   "cell_type": "code",
   "execution_count": 35,
   "metadata": {},
   "outputs": [
    {
     "name": "stdout",
     "output_type": "stream",
     "text": [
      "PHR_ED_lcd Number of fields: 72\n",
      "Metro_ED_lcd Number of fields: 72\n",
      "Border_ED_lcd Number of fields: 72\n",
      "Border_ED_aging Number of fields: 42\n",
      "Metro_ED_aging Number of fields: 42\n",
      "PHR_ED_aging Number of fields: 42\n",
      "Border_IP_aging Number of fields: 42\n",
      "Metro_IP_aging Number of fields: 42\n",
      "PHR_IP_aging Number of fields: 42\n",
      "Border_IP_lcd Number of fields: 72\n",
      "Metro_IP_lcd Number of fields: 72\n",
      "PHR_IP_lcd Number of fields: 72\n"
     ]
    }
   ],
   "source": [
    "### Apply suppression to counts\n",
    "\n",
    "layers = (\"PHR_ED_lcd\", \"Metro_ED_lcd\", \"Border_ED_lcd\", \"Border_ED_aging\",\n",
    "         \"Metro_ED_aging\", \"PHR_ED_aging\", \"Border_IP_aging\", \"Metro_IP_aging\",\n",
    "         \"PHR_IP_aging\", \"Border_IP_lcd\", \"Metro_IP_lcd\", \"PHR_IP_lcd\",\n",
    "          \"Unsuppr_IP_county_lcd\", \"Unsuppr_IP_county_aging\", \"Unsuppr_ED_county_lcd\", \n",
    "          \"Unsuppr_ED_county_aging\")\n",
    "#### Takes each layer in the list above\n",
    "for layer in layers:\n",
    "    field_list = []\n",
    "    for field in arcpy.ListFields(layer):  ## Makes a list of the fields to be suppressed\n",
    "        if field.name.endswith('17') | field.name.endswith('18') | field.name.endswith('19') | field.name.endswith('20') | field.name.endswith('21') | field.name.endswith('22'):\n",
    "            field_list.append(field.name)\n",
    "    list_length = len(field_list)\n",
    "    print(str(layer) + \" Number of fields: \" + str(list_length))\n",
    "    with arcpy.da.UpdateCursor(layer, field_list) as cursor:\n",
    "        for row in cursor:  ### Set values to None for each field in the list\n",
    "            for i in range(0, list_length):\n",
    "                if row[i] != None and row[i] > 0 and row[i] < 10:\n",
    "                    row[i] = None\n",
    "                    cursor.updateRow(row)\n",
    "\n",
    "    "
   ]
  },
  {
   "cell_type": "code",
   "execution_count": null,
   "metadata": {},
   "outputs": [],
   "source": []
  }
 ],
 "metadata": {
  "kernelspec": {
   "display_name": "ArcGISPro",
   "language": "Python",
   "name": "python3"
  },
  "language_info": {
   "file_extension": ".py",
   "name": "python",
   "version": "3"
  }
 },
 "nbformat": 4,
 "nbformat_minor": 2
}
