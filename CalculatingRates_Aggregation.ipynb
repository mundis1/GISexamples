{
 "cells": [
  {
   "cell_type": "code",
   "execution_count": 1,
   "metadata": {},
   "outputs": [
    {
     "data": {
      "text/html": [
       "<div class='gpresult'><h2>Messages</h2><div id='messages' data-messages='[\"Start Time: Friday, January 5, 2024 2:36:27 PM\",\"Sorting Attributes...\",\"Dissolving...\",\"Succeeded at Friday, January 5, 2024 2:36:29 PM (Elapsed Time: 1.96 seconds)\"]' data-show='true'><div id = 'default' /></div></div>"
      ],
      "text/plain": [
       "<Result 'C:\\\\Users\\\\smundis543\\\\Documents\\\\ArcGISProjects\\\\OpioidApplicationLayers\\\\ProcessingOpioidLayers\\\\ProcessingOpioidLayers.gdb\\\\BorderFentDeaths2018_2023'>"
      ]
     },
     "execution_count": 1,
     "metadata": {},
     "output_type": "execute_result"
    }
   ],
   "source": [
    "#### Step 1. Create aggregated datasets\n",
    "import arcpy\n",
    "\n",
    "# arcpy.env.workspace = \"S:/CHS-GIS/Requests/AGO/Opioids/GISdata/OpioidLayers/PolygonRatesCounts_December2023.gdb\"\n",
    "counties = \"Unsuppr_FentOpDrugDeaths_Counties\"\n",
    "statsFields = [[\"FentD2018\", \"SUM\"], [\"FentD2019\", \"SUM\"], [\"FentD2020\", \"SUM\"], [\"FentD2021\", \"SUM\"], [\"FentD2022\", \"SUM\"], [\"FentD2023\", \"SUM\"],\n",
    "              [\"total_2018\", \"SUM\"], [\"total_2019\", \"SUM\"], [\"total_2020\", \"SUM\"], [\"total_2021\", \"SUM\"], [\"total_2022\", \"SUM\"], [\"total_2023\", \"SUM\"]]\n",
    "arcpy.analysis.PairwiseDissolve(counties, \"PHRFentDeaths2018_2023\", \"PHR\", statsFields)\n",
    "arcpy.analysis.PairwiseDissolve(counties, \"MetroFentDeaths2018_2023\", \"Metro\", statsFields)\n",
    "arcpy.analysis.PairwiseDissolve(counties, \"BorderFentDeaths2018_2023\", \"Border\", statsFields)\n"
   ]
  },
  {
   "cell_type": "code",
   "execution_count": 2,
   "metadata": {},
   "outputs": [
    {
     "data": {
      "text/html": [
       "<div class='gpresult'><h2>Messages</h2><div id='messages' data-messages='[\"Start Time: Friday, January 5, 2024 2:38:20 PM\",\"Succeeded at Friday, January 5, 2024 2:38:21 PM (Elapsed Time: 1.11 seconds)\"]' data-show='true'><div id = 'default' /></div></div>"
      ],
      "text/plain": [
       "<Result 'PHRFentDeaths2018_2023'>"
      ]
     },
     "execution_count": 2,
     "metadata": {},
     "output_type": "execute_result"
    }
   ],
   "source": [
    "import arcpy\n",
    "\n",
    "### Step 2. Now we will calculate county-level rates for each of these\n",
    "### new feature classes. We're going to add the fields first and apply a precision of 2\n",
    "### to reduce the number of digits being stored for the pop-ups\n",
    "\n",
    "PHR_agg = \"PHRFentDeaths2018_2023\"\n",
    "\n",
    "fields = [\"FentDRt2018\", \"FentDRt2019\", \"FentDRt2020\", \"FentDRt2021\", \"FentDRt2022\", \"FentDRt2023\", \"FentDRt18_23\"]\n",
    "\n",
    "### Add all the fields we need, with a precision of 2\n",
    "for field in fields:\n",
    "    arcpy.management.AddField(PHR_agg, field, \"FLOAT\", 2)\n",
    "\n",
    "### Calculate the rate for each individual year\n",
    "arcpy.management.CalculateField(PHR_agg, \"FentDRt2018\", \"(!SUM_FentD2018! / !SUM_total_2018!) * 100000\")\n",
    "arcpy.management.CalculateField(PHR_agg, \"FentDRt2019\", \"(!SUM_FentD2019! / !SUM_total_2019!) * 100000\")\n",
    "arcpy.management.CalculateField(PHR_agg, \"FentDRt2020\", \"(!SUM_FentD2020! / !SUM_total_2020!) * 100000\")\n",
    "arcpy.management.CalculateField(PHR_agg, \"FentDRt2021\", \"(!SUM_FentD2021! / !SUM_total_2021!) * 100000\")\n",
    "arcpy.management.CalculateField(PHR_agg, \"FentDRt2022\", \"(!SUM_FentD2022! / !SUM_total_2022!) * 100000\")\n",
    "arcpy.management.CalculateField(PHR_agg, \"FentDRt2023\", \"(!SUM_FentD2023! / !SUM_total_2023!) * 100000\")\n",
    "\n",
    "### Calculate the cumulative rate 2018-2023\n",
    "arcpy.management.AddField(PHR_agg, \"FentD18_23\", \"FLOAT\")\n",
    "arcpy.management.CalculateField(PHR_agg, \"FentD18_23\", \"!SUM_FentD2018! + !SUM_FentD2019! + !SUM_FentD2020! + !SUM_FentD2021! + !SUM_FentD2022! + !SUM_FentD2023!\")\n",
    "arcpy.management.CalculateField(PHR_agg, \"FentDRt18_23\", \"(!FentD18_23! / (!SUM_total_2018! + !SUM_total_2019! + !SUM_total_2020! + !SUM_total_2021! + !SUM_total_2022! + !SUM_total_2023!)) * 100000\")\n"
   ]
  },
  {
   "cell_type": "code",
   "execution_count": 3,
   "metadata": {},
   "outputs": [
    {
     "data": {
      "text/html": [
       "<div class='gpresult'><h2>Messages</h2><div id='messages' data-messages='[\"Start Time: Friday, January 5, 2024 2:42:03 PM\",\"Succeeded at Friday, January 5, 2024 2:42:04 PM (Elapsed Time: 1.66 seconds)\"]' data-show='true'><div id = 'default' /></div></div>"
      ],
      "text/plain": [
       "<Result 'MetroFentDeaths2018_2023'>"
      ]
     },
     "execution_count": 3,
     "metadata": {},
     "output_type": "execute_result"
    }
   ],
   "source": [
    "### Apply the same calculations to the metro-aggregated feature class\n",
    "\n",
    "Metro_agg = \"MetroFentDeaths2018_2023\"\n",
    "\n",
    "fields = [\"FentDRt2018\", \"FentDRt2019\", \"FentDRt2020\", \"FentDRt2021\", \"FentDRt2022\", \"FentDRt2023\", \"FentDRt18_23\"]\n",
    "\n",
    "## Add all the fields we need, with a precision of 2\n",
    "for field in fields:\n",
    "    arcpy.management.AddField(Metro_agg, field, \"FLOAT\", 2)\n",
    "\n",
    "\n",
    "arcpy.management.CalculateField(Metro_agg, \"FentDRt2018\", \"(!SUM_FentD2018! / !SUM_total_2018!) * 100000\")\n",
    "arcpy.management.CalculateField(Metro_agg, \"FentDRt2019\", \"(!SUM_FentD2019! / !SUM_total_2019!) * 100000\")\n",
    "arcpy.management.CalculateField(Metro_agg, \"FentDRt2020\", \"(!SUM_FentD2020! / !SUM_total_2020!) * 100000\")\n",
    "arcpy.management.CalculateField(Metro_agg, \"FentDRt2021\", \"(!SUM_FentD2021! / !SUM_total_2021!) * 100000\")\n",
    "arcpy.management.CalculateField(Metro_agg, \"FentDRt2022\", \"(!SUM_FentD2022! / !SUM_total_2022!) * 100000\")\n",
    "arcpy.management.CalculateField(Metro_agg, \"FentDRt2023\", \"(!SUM_FentD2023! / !SUM_total_2023!) * 100000\")\n",
    "\n",
    "arcpy.management.AddField(Metro_agg, \"FentD18_23\", \"FLOAT\")\n",
    "arcpy.management.CalculateField(Metro_agg, \"FentD18_23\", \"!SUM_FentD2018! + !SUM_FentD2019! + !SUM_FentD2020! + !SUM_FentD2021! + !SUM_FentD2022! + !SUM_FentD2023!\")\n",
    "arcpy.management.CalculateField(Metro_agg, \"FentDRt18_23\", \"(!FentD18_23! / (!SUM_total_2018! + !SUM_total_2019! + !SUM_total_2020! + !SUM_total_2021! + !SUM_total_2022! + !SUM_total_2023!)) * 100000\")\n",
    "\n"
   ]
  },
  {
   "cell_type": "code",
   "execution_count": 7,
   "metadata": {},
   "outputs": [
    {
     "data": {
      "text/html": [
       "<div class='gpresult'><h2>Messages</h2><div id='messages' data-messages='[\"Start Time: Friday, January 5, 2024 3:09:56 PM\",\"Succeeded at Friday, January 5, 2024 3:09:57 PM (Elapsed Time: 1.04 seconds)\"]' data-show='true'><div id = 'default' /></div></div>"
      ],
      "text/plain": [
       "<Result 'BorderFentDeaths2018_2023'>"
      ]
     },
     "execution_count": 7,
     "metadata": {},
     "output_type": "execute_result"
    }
   ],
   "source": [
    "Border_agg = \"BorderFentDeaths2018_2023\"\n",
    "fields = [\"FentDRt2018\", \"FentDRt2019\", \"FentDRt2020\", \"FentDRt2021\", \"FentDRt2022\", \"FentDRt2023\", \"FentDRt18_23\"]\n",
    "\n",
    "## Add all the fields we need, with a precision of 2\n",
    "for field in fields:\n",
    "    arcpy.management.AddField(Border_agg, field, \"FLOAT\", 2)\n",
    "\n",
    "arcpy.management.CalculateField(Border_agg, \"FentDRt2018\", \"(!SUM_FentD2018! / !SUM_total_2018!) * 100000\")\n",
    "arcpy.management.CalculateField(Border_agg, \"FentDRt2019\", \"(!SUM_FentD2019! / !SUM_total_2019!) * 100000\")\n",
    "arcpy.management.CalculateField(Border_agg, \"FentDRt2020\", \"(!SUM_FentD2020! / !SUM_total_2020!) * 100000\")\n",
    "arcpy.management.CalculateField(Border_agg, \"FentDRt2021\", \"(!SUM_FentD2021! / !SUM_total_2021!) * 100000\")\n",
    "arcpy.management.CalculateField(Border_agg, \"FentDRt2022\", \"(!SUM_FentD2022! / !SUM_total_2022!) * 100000\")\n",
    "arcpy.management.CalculateField(Border_agg, \"FentDRt2023\", \"(!SUM_FentD2023! / !SUM_total_2023!) * 100000\")\n",
    "\n",
    "arcpy.management.AddField(Border_agg, \"FentD18_23\", \"FLOAT\")\n",
    "arcpy.management.CalculateField(Border_agg, \"FentD18_23\", \"!SUM_FentD2018! + !SUM_FentD2019! + !SUM_FentD2020! + !SUM_FentD2021! + !SUM_FentD2022! + !SUM_FentD2023!\")\n",
    "arcpy.management.CalculateField(Border_agg, \"FentDRt18_23\", \"(!FentD18_23! / (!SUM_total_2018! + !SUM_total_2019! + !SUM_total_2020! + !SUM_total_2021! + !SUM_total_2022! + !SUM_total_2023!)) * 100000\")\n",
    "\n"
   ]
  },
  {
   "cell_type": "code",
   "execution_count": 10,
   "metadata": {},
   "outputs": [
    {
     "name": "stdout",
     "output_type": "stream",
     "text": [
      "Rates are suppressed\n",
      "Rates are suppressed\n",
      "Rates are suppressed\n",
      "Rates are suppressed\n",
      "Rates are suppressed\n",
      "Rates are suppressed\n"
     ]
    }
   ],
   "source": [
    "### Step 5. Apply suppression to the aggregated rates \n",
    "PHR_agg = \"PHRFentDeaths2018_2023\"\n",
    "Metro_agg = \"MetroFentDeaths2018_2023\"\n",
    "Border_agg = \"BorderFentDeaths2018_2023\"\n",
    "\n",
    "layers = (PHR_agg, Metro_agg, Border_agg)\n",
    "\n",
    "fieldNames = (\"SUM_FentD2018\", \"SUM_FentD2019\", \"SUM_FentD2020\", \"SUM_FentD2021\", \"SUM_FentD2022\", \"SUM_FentD2023\", \"FentD18_23\",\n",
    "             \"FentDRt2018\", \"FentDRt2019\", \"FentDRt2020\", \"FentDRt2021\", \"FentDRt2022\", \"FentDRt2023\", \"FentDRt18_23\")\n",
    "\n",
    "for layer in layers:\n",
    "    with arcpy.da.UpdateCursor(layer, fieldNames) as cursor:\n",
    "        for row in cursor:\n",
    "            ### Suppress the 2018 rate based on the 2018 count \n",
    "            if row[0] > 0 and row[0] < 21:\n",
    "                row[7] = None\n",
    "            ### Suppress the 2019 rate\n",
    "            if row[1] > 0 and row[1] < 21:\n",
    "                row[8] = None\n",
    "            ### Suppress the 2020 rate\n",
    "            if row[2] > 0 and row[2] < 21:\n",
    "                row[9] = None\n",
    "            ### Suppress the 2021 rate\n",
    "            if row[3] > 0 and row[3] < 21:\n",
    "                row[10] = None\n",
    "            ### Suppress the 2022 rate\n",
    "            if row[4] > 0 and row[4] < 21:\n",
    "                row[11] = None\n",
    "            ### Suppress the 2023 rate\n",
    "            if row[5] > 0 and row[5] < 21:\n",
    "                row[12] = None\n",
    "            ### Suppress the 2018-2023 rate\n",
    "            if row[6] > 0 and row[6] < 21:\n",
    "                row[13] = None\n",
    "            cursor.updateRow(row)\n",
    "            print(\"Rates are suppressed\")\n",
    "  \n",
    "    "
   ]
  },
  {
   "cell_type": "code",
   "execution_count": 11,
   "metadata": {},
   "outputs": [
    {
     "name": "stdout",
     "output_type": "stream",
     "text": [
      "PHRFentDeaths2018_2023 is suppressed\n",
      "PHRFentDeaths2018_2023 is suppressed\n",
      "PHRFentDeaths2018_2023 is suppressed\n",
      "PHRFentDeaths2018_2023 is suppressed\n",
      "PHRFentDeaths2018_2023 is suppressed\n",
      "PHRFentDeaths2018_2023 is suppressed\n",
      "PHRFentDeaths2018_2023 is suppressed\n",
      "PHRFentDeaths2018_2023 is suppressed\n",
      "MetroFentDeaths2018_2023 is suppressed\n",
      "MetroFentDeaths2018_2023 is suppressed\n",
      "BorderFentDeaths2018_2023 is suppressed\n"
     ]
    }
   ],
   "source": [
    "### Step 6. Apply suppression to the counts \n",
    "PHR_agg = \"PHRFentDeaths2018_2023\"\n",
    "Metro_agg = \"MetroFentDeaths2018_2023\"\n",
    "Border_agg = \"BorderFentDeaths2018_2023\"\n",
    "\n",
    "layers = (PHR_agg, Metro_agg, Border_agg)\n",
    "fieldNames = (\"SUM_FentD2018\", \"SUM_FentD2019\", \"SUM_FentD2020\", \"SUM_FentD2021\", \"SUM_FentD2022\", \"SUM_FentD2023\", \"FentD18_23\",\n",
    "             \"FentDRt2018\", \"FentDRt2019\", \"FentDRt2020\", \"FentDRt2021\", \"FentDRt2022\", \"FentDRt2023\", \"FentDRt18_23\")\n",
    "\n",
    "for layer in layers:\n",
    "    with arcpy.da.UpdateCursor(layer, fieldNames) as cursor:\n",
    "        for row in cursor:\n",
    "            ### Suppress the 2018 count \n",
    "            if row[0] > 0 and row[0] < 10:\n",
    "                row[0] = None\n",
    "            ### Suppress the 2019 count\n",
    "            if row[1] > 0 and row[1] < 10:\n",
    "                row[1] = None\n",
    "            ### Suppress the 2020 count\n",
    "            if row[2] > 0 and row[2] < 10:\n",
    "                row[2] = None\n",
    "            ### Suppress the 2021 count\n",
    "            if row[3] > 0 and row[3] < 10:\n",
    "                row[3] = None\n",
    "            ### Suppress the 2022 count\n",
    "            if row[4] > 0 and row[4] < 10:\n",
    "                row[4] = None\n",
    "            ### Suppress the 2023 count\n",
    "            if row[5] > 0 and row[5] < 10:\n",
    "                row[5] = None\n",
    "            ### Suppress the 2018-2023 count\n",
    "            if row[6] > 0 and row[6] < 10:\n",
    "                row[6] = None\n",
    "            cursor.updateRow(row)\n",
    "            print(str(layer) + \" is suppressed\")\n",
    "  "
   ]
  },
  {
   "cell_type": "code",
   "execution_count": 3,
   "metadata": {},
   "outputs": [],
   "source": [
    "\n",
    "  \n"
   ]
  },
  {
   "cell_type": "code",
   "execution_count": null,
   "metadata": {},
   "outputs": [],
   "source": []
  },
  {
   "cell_type": "code",
   "execution_count": null,
   "metadata": {},
   "outputs": [],
   "source": [
    "\n",
    "    \n",
    "\n",
    "    "
   ]
  }
 ],
 "metadata": {
  "kernelspec": {
   "display_name": "ArcGISPro",
   "language": "Python",
   "name": "python3"
  },
  "language_info": {
   "file_extension": ".py",
   "name": "python",
   "version": "3"
  }
 },
 "nbformat": 4,
 "nbformat_minor": 2
}
