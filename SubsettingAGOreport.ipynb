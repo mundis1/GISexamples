{
 "cells": [
  {
   "cell_type": "code",
   "execution_count": 1,
   "metadata": {},
   "outputs": [],
   "source": [
    "### Import libraries and import the full organization item report\n",
    "import pandas\n",
    "import arcpy\n",
    "\n",
    "org_report = pandas.read_csv(\"S:/CHS-GIS/Administration/ArcGISOnlineMonitoring/Reports/OrganizationItems_2024-02-07.csv\")"
   ]
  },
  {
   "cell_type": "code",
   "execution_count": 2,
   "metadata": {},
   "outputs": [
    {
     "name": "stdout",
     "output_type": "stream",
     "text": [
      "Subset to just CHS\n"
     ]
    }
   ],
   "source": [
    "### Create a list of current CHS GIS Team members\n",
    "CHS_members = ['Stephanie.Mundis_TXDSHSEA', 'timj.hawkins_TXDSHSEA', 'jessica.beharry_TXDSHSEA', 'tyler.link_TXDSHSEA']\n",
    "\n",
    "### Create a filter using this list\n",
    "CHS_filter = org_report['Owner'].isin(CHS_members)\n",
    "### Subset to just the CHS members\n",
    "CHS_report = org_report[CHS_filter]\n",
    "print(\"Subset to just CHS\")"
   ]
  },
  {
   "cell_type": "code",
   "execution_count": 3,
   "metadata": {},
   "outputs": [
    {
     "name": "stderr",
     "output_type": "stream",
     "text": [
      "[3]:17: SettingWithCopyWarning: \n",
      "A value is trying to be set on a copy of a slice from a DataFrame.\n",
      "Try using .loc[row_indexer,col_indexer] = value instead\n",
      "\n",
      "See the caveats in the documentation: https://pandas.pydata.org/pandas-docs/stable/user_guide/indexing.html#returning-a-view-versus-a-copy\n",
      "[3]:20: SettingWithCopyWarning: \n",
      "A value is trying to be set on a copy of a slice from a DataFrame\n",
      "\n",
      "See the caveats in the documentation: https://pandas.pydata.org/pandas-docs/stable/user_guide/indexing.html#returning-a-view-versus-a-copy\n"
     ]
    }
   ],
   "source": [
    "import numpy as np\n",
    "### Create a broader content category column that will be used for visualizing\n",
    "conditions = [\n",
    "    (CHS_report['Item Type'] == 'Dashboard'),\n",
    "    (CHS_report['Item Type'] == 'Web Experience'),\n",
    "    (CHS_report['Item Type'] == 'Feature Service') | (CHS_report['Item Type'] == 'Shapefile') | (CHS_report['Item Type'] == 'Service Definition'),\n",
    "    (CHS_report['Item Type'] == 'Hub Initiative') | (CHS_report['Item Type'] == 'Hub Page') | (CHS_report['Item Type'] == 'Hub Site Application'),\n",
    "    (CHS_report['Item Type'] == 'Insights Workbook'),\n",
    "    (CHS_report['Item Type'] == 'StoryMap'),\n",
    "    (CHS_report['Item Type'] == 'Form'),\n",
    "    (CHS_report['Item Type'] == 'Web Mapping Application'),\n",
    "    (CHS_report['Item Type'] == 'Web Map')\n",
    "]\n",
    "\n",
    "### These are the class names\n",
    "classes = ['Dashboard', 'Experience Builder', 'Feature Layer/Service', 'Hub Component', 'Insights', 'StoryMap', 'Survey123 Form', 'Web Application', 'Web Map']\n",
    "CHS_report['Category'] = np.select(conditions, classes)\n",
    "\n",
    "### And then set all of the 'miscellaneous' item types to a broader 'Other' category\n",
    "CHS_report['Category'].replace('0', 'Other', inplace=True)\n",
    "\n"
   ]
  },
  {
   "cell_type": "code",
   "execution_count": 4,
   "metadata": {},
   "outputs": [],
   "source": [
    "### Export to a CHS_report csv\n",
    "CHS_report.to_csv(\"S:/CHS-GIS/Administration/ArcGISOnlineMonitoring/CHS_AGO_Dashboard/CHS_report.csv\")\n"
   ]
  },
  {
   "cell_type": "code",
   "execution_count": 5,
   "metadata": {},
   "outputs": [
    {
     "data": {
      "text/html": [
       "<div class='gpresult'><h2>Messages</h2><div id='messages' data-messages='[\"Start Time: Wednesday, February 7, 2024 10:40:55 AM\",\"Succeeded at Wednesday, February 7, 2024 10:41:54 AM (Elapsed Time: 59.08 seconds)\"]' data-show='true'><div id = 'default' /></div></div>"
      ],
      "text/plain": [
       "<Result 'S:\\\\CHS-GIS\\\\Administration\\\\ArcGISOnlineMonitoring\\\\CHS_AGO_Dashboard\\\\MyProject1.gdb\\\\CHS_reportJanuary2024'>"
      ]
     },
     "execution_count": 5,
     "metadata": {},
     "output_type": "execute_result"
    }
   ],
   "source": [
    "output_table = \"S:/CHS-GIS/Administration/ArcGISOnlineMonitoring/CHS_AGO_Dashboard/MyProject1.gdb/CHS_reportJanuary2024\"\n",
    "### Create a copy that can then be uploaded to arcgis Online\n",
    "arcpy.conversion.ExportTable(\"S:/CHS-GIS/Administration/ArcGISOnlineMonitoring/CHS_AGO_Dashboard/CHS_report.csv\",\n",
    "                             output_table)"
   ]
  }
 ],
 "metadata": {
  "kernelspec": {
   "display_name": "ArcGISPro",
   "language": "Python",
   "name": "python3"
  },
  "language_info": {
   "file_extension": ".py",
   "name": "python",
   "version": "3"
  }
 },
 "nbformat": 4,
 "nbformat_minor": 2
}
